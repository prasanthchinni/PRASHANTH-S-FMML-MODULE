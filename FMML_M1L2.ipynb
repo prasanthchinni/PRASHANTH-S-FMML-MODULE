{
  "cells": [
    {
      "cell_type": "markdown",
      "metadata": {
        "id": "view-in-github",
        "colab_type": "text"
      },
      "source": [
        "<a href=\"https://colab.research.google.com/github/prasanthchinni/PRASHANTH-S-FMML-MODULE/blob/main/FMML_M1L2.ipynb\" target=\"_parent\"><img src=\"https://colab.research.google.com/assets/colab-badge.svg\" alt=\"Open In Colab\"/></a>"
      ]
    },
    {
      "cell_type": "markdown",
      "metadata": {
        "id": "3Eu9VZbF01eq"
      },
      "source": [
        "# Machine Learning terms and metrics\n",
        "\n",
        "FMML Module 1, Lab 2\n",
        "\n",
        "In this lab, we will show a part of the ML pipeline by using the California Housing dataset. There are 20640 samples, each with 8 attributes like income of the block, age of the houses per district etc. The task is to predict the cost of the houses per district. We will use the scikit-learn library to load the data and perform some basic data preprocessing and model training. We will also show how to evaluate the model using some common metrics, split the data into training and testing sets, and use cross-validation to get a better estimate of the model's performance."
      ]
    },
    {
      "cell_type": "markdown",
      "source": [
        "Ans2)When dealing with more than two classes, classification models can still perform well, but some considerations arise:\n",
        "\n",
        "*Challenges:*\n",
        "\n",
        "1. Increased complexity: More classes mean more boundaries to learn, potentially leading to overfitting.\n",
        "2. Class imbalance: Some classes may have significantly fewer instances, affecting model performance.\n",
        "3. Confusion between similar classes: Models may struggle to distinguish between classes with similar features.\n",
        "\n",
        "*Strategies:*\n",
        "\n",
        "1. One-vs-Rest (OvR): Train multiple binary models, each focusing on one class vs. all others.\n",
        "2. One-vs-One (OvO): Train models for each pair of classes.\n",
        "3. Hierarchical classification: Organize classes into a tree-like structure.\n",
        "4. Multi-class classification algorithms: Designed specifically for multiple classes, e.g., Random Forest, SVM, KNN.\n",
        "\n",
        "*Evaluation Metrics:*\n",
        "\n",
        "1. Accuracy\n",
        "2. Precision\n",
        "3. Recall\n",
        "4. F1-score (macro and weighted)\n",
        "5. Confusion Matrix\n",
        "6. ROC-AUC (for each class)\n",
        "\n",
        "*Techniques to improve performance:*\n",
        "\n",
        "1. Data augmentation\n",
        "2. Feature engineering\n",
        "3. Transfer learning\n",
        "4. Ensemble methods\n",
        "5. Hyperparameter tuning\n",
        "\n",
        "*Example (Python):*\n",
        "\n",
        "Using Iris dataset (3 classes: Setosa, Versicolor, Virginica)\n",
        "```\n",
        "from sklearn.datasets import load_iris\n",
        "from sklearn.model_selection import train_test_split\n",
        "from sklearn.ensemble import RandomForestClassifier\n",
        "from sklearn.metrics import accuracy_score, classification_report, confusion_matrix\n",
        "\n",
        "# Load Iris dataset\n",
        "iris = load_iris()\n",
        "X = iris.data\n",
        "y = iris.target\n",
        "\n",
        "# Split data\n",
        "X_train, X_test, y_train, y_test = train_test_split(X, y, test_size=0.2)\n",
        "\n",
        "# Train multi-class model\n",
        "rfc = RandomForestClassifier(n_estimators=100)\n",
        "rfc.fit(X_train, y_train)\n",
        "\n",
        "# Evaluate model\n",
        "y_pred = rfc.predict(X_test)\n",
        "print(\"Accuracy:\", accuracy_score(y_test, y_pred))\n",
        "print(\"Classification Report:\")\n",
        "print(classification_report(y_test, y_pred))\n",
        "print(\"Confusion Matrix:\")\n",
        "print(confusion_matrix(y_test, y_pred))\n",
        "```\n",
        "\n",
        "Do you have a specific multi-class classification problem or dataset in mind?"
      ],
      "metadata": {
        "id": "qhoKoWRXXZmh"
      }
    },
    {
      "cell_type": "code",
      "execution_count": 1,
      "metadata": {
        "id": "8qBvyEem0vLi"
      },
      "outputs": [],
      "source": [
        "import numpy as np\n",
        "from sklearn import datasets\n",
        "import matplotlib.pyplot as plt\n",
        "\n",
        "rng = np.random.default_rng(seed=42)"
      ]
    },
    {
      "cell_type": "code",
      "execution_count": 2,
      "metadata": {
        "colab": {
          "base_uri": "https://localhost:8080/"
        },
        "id": "8LpqjN991GGJ",
        "outputId": "4cd917af-c520-4cde-8ddc-d11dea5b6baa"
      },
      "outputs": [
        {
          "output_type": "stream",
          "name": "stdout",
          "text": [
            ".. _california_housing_dataset:\n",
            "\n",
            "California Housing dataset\n",
            "--------------------------\n",
            "\n",
            "**Data Set Characteristics:**\n",
            "\n",
            ":Number of Instances: 20640\n",
            "\n",
            ":Number of Attributes: 8 numeric, predictive attributes and the target\n",
            "\n",
            ":Attribute Information:\n",
            "    - MedInc        median income in block group\n",
            "    - HouseAge      median house age in block group\n",
            "    - AveRooms      average number of rooms per household\n",
            "    - AveBedrms     average number of bedrooms per household\n",
            "    - Population    block group population\n",
            "    - AveOccup      average number of household members\n",
            "    - Latitude      block group latitude\n",
            "    - Longitude     block group longitude\n",
            "\n",
            ":Missing Attribute Values: None\n",
            "\n",
            "This dataset was obtained from the StatLib repository.\n",
            "https://www.dcc.fc.up.pt/~ltorgo/Regression/cal_housing.html\n",
            "\n",
            "The target variable is the median house value for California districts,\n",
            "expressed in hundreds of thousands of dollars ($100,000).\n",
            "\n",
            "This dataset was derived from the 1990 U.S. census, using one row per census\n",
            "block group. A block group is the smallest geographical unit for which the U.S.\n",
            "Census Bureau publishes sample data (a block group typically has a population\n",
            "of 600 to 3,000 people).\n",
            "\n",
            "A household is a group of people residing within a home. Since the average\n",
            "number of rooms and bedrooms in this dataset are provided per household, these\n",
            "columns may take surprisingly large values for block groups with few households\n",
            "and many empty houses, such as vacation resorts.\n",
            "\n",
            "It can be downloaded/loaded using the\n",
            ":func:`sklearn.datasets.fetch_california_housing` function.\n",
            "\n",
            ".. rubric:: References\n",
            "\n",
            "- Pace, R. Kelley and Ronald Barry, Sparse Spatial Autoregressions,\n",
            "  Statistics and Probability Letters, 33 (1997) 291-297\n",
            "\n"
          ]
        }
      ],
      "source": [
        "dataset = datasets.fetch_california_housing()\n",
        "# Dataset description\n",
        "print(dataset.DESCR)"
      ]
    },
    {
      "cell_type": "markdown",
      "metadata": {
        "id": "PCe1VNftevgE"
      },
      "source": [
        "Given below are the list of target values. These correspond to the house value derived considering all the 8 input features and are continuous values. We should use regression models to predict these values but we will start with a simple classification model for the sake of simplicity. We need to just round off the values to the nearest integer and use a classification model to predict the house value."
      ]
    },
    {
      "cell_type": "code",
      "execution_count": 3,
      "metadata": {
        "colab": {
          "base_uri": "https://localhost:8080/"
        },
        "id": "F8K0ggBOevgE",
        "outputId": "45422ca6-85c4-4496-d061-3a55b57be8dc"
      },
      "outputs": [
        {
          "output_type": "stream",
          "name": "stdout",
          "text": [
            "Orignal target values: [4.526 3.585 3.521 ... 0.923 0.847 0.894]\n",
            "Target values after conversion: [4 3 3 ... 0 0 0]\n",
            "Input variables shape: (20640, 8)\n",
            "Output variables shape: (20640,)\n"
          ]
        }
      ],
      "source": [
        "print(\"Orignal target values:\", dataset.target)\n",
        "\n",
        "dataset.target = dataset.target.astype(int)\n",
        "\n",
        "print(\"Target values after conversion:\", dataset.target)\n",
        "print(\"Input variables shape:\", dataset.data.shape)\n",
        "print(\"Output variables shape:\", dataset.target.shape)"
      ]
    },
    {
      "cell_type": "markdown",
      "metadata": {
        "id": "iNx4174W5xRg"
      },
      "source": [
        "The simplest model to use for classification is the K-Nearest Neighbors model. We will use this model to predict the house value with a K value of 1. We will also use the accuracy metric to evaluate the model."
      ]
    },
    {
      "cell_type": "code",
      "execution_count": 4,
      "metadata": {
        "id": "07zpydQj1hIQ"
      },
      "outputs": [],
      "source": [
        "def NN1(traindata, trainlabel, query):\n",
        "    \"\"\"\n",
        "    This function takes in the training data, training labels and a query point\n",
        "    and returns the predicted label for the query point using the nearest neighbour algorithm\n",
        "\n",
        "    traindata: numpy array of shape (n,d) where n is the number of samples and d is the number of features\n",
        "    trainlabel: numpy array of shape (n,) where n is the number of samples\n",
        "    query: numpy array of shape (d,) where d is the number of features\n",
        "\n",
        "    returns: the predicted label for the query point which is the label of the training data which is closest to the query point\n",
        "    \"\"\"\n",
        "    diff = (\n",
        "        traindata - query\n",
        "    )  # find the difference between features. Numpy automatically takes care of the size here\n",
        "    sq = diff * diff  # square the differences\n",
        "    dist = sq.sum(1)  # add up the squares\n",
        "    label = trainlabel[np.argmin(dist)]\n",
        "    return label\n",
        "\n",
        "\n",
        "def NN(traindata, trainlabel, testdata):\n",
        "    \"\"\"\n",
        "    This function takes in the training data, training labels and test data\n",
        "    and returns the predicted labels for the test data using the nearest neighbour algorithm\n",
        "\n",
        "    traindata: numpy array of shape (n,d) where n is the number of samples and d is the number of features\n",
        "    trainlabel: numpy array of shape (n,) where n is the number of samples\n",
        "    testdata: numpy array of shape (m,d) where m is the number of test samples and d is the number of features\n",
        "\n",
        "    returns: the predicted labels for the test data which is the label of the training data which is closest to each test point\n",
        "    \"\"\"\n",
        "    predlabel = np.array([NN1(traindata, trainlabel, i) for i in testdata])\n",
        "    return predlabel"
      ]
    },
    {
      "cell_type": "markdown",
      "metadata": {
        "id": "03JktkfIGaje"
      },
      "source": [
        "We will also define a 'random classifier', which randomly allots labels to each sample"
      ]
    },
    {
      "cell_type": "code",
      "execution_count": 5,
      "metadata": {
        "id": "fogWAtjyGhAH"
      },
      "outputs": [],
      "source": [
        "def RandomClassifier(traindata, trainlabel, testdata):\n",
        "    \"\"\"\n",
        "    This function takes in the training data, training labels and test data\n",
        "    and returns the predicted labels for the test data using the random classifier algorithm\n",
        "\n",
        "    In reality, we don't need these arguments but we are passing them to keep the function signature consistent with other classifiers\n",
        "\n",
        "    traindata: numpy array of shape (n,d) where n is the number of samples and d is the number of features\n",
        "    trainlabel: numpy array of shape (n,) where n is the number of samples\n",
        "    testdata: numpy array of shape (m,d) where m is the number of test samples and d is the number of features\n",
        "\n",
        "    returns: the predicted labels for the test data which is a random label from the training data\n",
        "    \"\"\"\n",
        "\n",
        "    classes = np.unique(trainlabel)\n",
        "    rints = rng.integers(low=0, high=len(classes), size=len(testdata))\n",
        "    predlabel = classes[rints]\n",
        "    return predlabel"
      ]
    },
    {
      "cell_type": "markdown",
      "metadata": {
        "id": "1Hjf1KHs7fU5"
      },
      "source": [
        "We need a metric to evaluate the performance of the model. Let us define a metric 'Accuracy' to see how good our learning algorithm is. Accuracy is the ratio of the number of correctly classified samples to the total number of samples. The higher the accuracy, the better the algorithm. We will use the accuracy metric to evaluate and compate the performance of the K-Nearest Neighbors model and the random classifier."
      ]
    },
    {
      "cell_type": "code",
      "execution_count": 6,
      "metadata": {
        "id": "ouuCqWU07bz-"
      },
      "outputs": [],
      "source": [
        "def Accuracy(gtlabel, predlabel):\n",
        "    \"\"\"\n",
        "    This function takes in the ground-truth labels and predicted labels\n",
        "    and returns the accuracy of the classifier\n",
        "\n",
        "    gtlabel: numpy array of shape (n,) where n is the number of samples\n",
        "    predlabel: numpy array of shape (n,) where n is the number of samples\n",
        "\n",
        "    returns: the accuracy of the classifier which is the number of correct predictions divided by the total number of predictions\n",
        "    \"\"\"\n",
        "    assert len(gtlabel) == len(\n",
        "        predlabel\n",
        "    ), \"Length of the ground-truth labels and predicted labels should be the same\"\n",
        "    correct = (\n",
        "        gtlabel == predlabel\n",
        "    ).sum()  # count the number of times the groundtruth label is equal to the predicted label.\n",
        "    return correct / len(gtlabel)"
      ]
    },
    {
      "cell_type": "markdown",
      "metadata": {
        "id": "4vJFwBFa9Klw"
      },
      "source": [
        "Let us make a function to split the dataset with the desired probability. We will use this function to split the dataset into training and testing sets. We will use the training set to train the model and the testing set to evaluate the model."
      ]
    },
    {
      "cell_type": "code",
      "execution_count": 7,
      "metadata": {
        "id": "Ko0VzpSM2Tdi"
      },
      "outputs": [],
      "source": [
        "def split(data, label, percent):\n",
        "    # generate a random number for each sample\n",
        "    rnd = rng.random(len(label))\n",
        "    split1 = rnd < percent\n",
        "    split2 = rnd >= percent\n",
        "\n",
        "    split1data = data[split1, :]\n",
        "    split1label = label[split1]\n",
        "    split2data = data[split2, :]\n",
        "    split2label = label[split2]\n",
        "    return split1data, split1label, split2data, split2label"
      ]
    },
    {
      "cell_type": "markdown",
      "metadata": {
        "id": "AcK3LEAJ_LGC"
      },
      "source": [
        "We will reserve 20% of our dataset as the test set. We will not change this portion throughout our experiments"
      ]
    },
    {
      "cell_type": "code",
      "execution_count": 8,
      "metadata": {
        "colab": {
          "base_uri": "https://localhost:8080/"
        },
        "id": "bBZkHBLJ1iU-",
        "outputId": "df529d1a-ace1-454e-b684-320860c179ce"
      },
      "outputs": [
        {
          "output_type": "stream",
          "name": "stdout",
          "text": [
            "Number of test samples: 4144\n",
            "Number of train samples: 16496\n",
            "Percent of test data: 20.07751937984496 %\n"
          ]
        }
      ],
      "source": [
        "testdata, testlabel, alltraindata, alltrainlabel = split(\n",
        "    dataset.data, dataset.target, 20 / 100\n",
        ")\n",
        "print(\"Number of test samples:\", len(testlabel))\n",
        "print(\"Number of train samples:\", len(alltrainlabel))\n",
        "print(\"Percent of test data:\", len(testlabel) * 100 / len(dataset.target), \"%\")"
      ]
    },
    {
      "cell_type": "markdown",
      "metadata": {
        "id": "a6Ss0Z6IAGNV"
      },
      "source": [
        "## Experiments with splits\n",
        "\n",
        "Let us reserve some of our train data as a validation set"
      ]
    },
    {
      "cell_type": "code",
      "execution_count": 9,
      "metadata": {
        "id": "WFew2iry_7W7"
      },
      "outputs": [],
      "source": [
        "traindata, trainlabel, valdata, vallabel = split(\n",
        "    alltraindata, alltrainlabel, 75 / 100)"
      ]
    },
    {
      "cell_type": "markdown",
      "metadata": {
        "id": "60hiu4clFN1i"
      },
      "source": [
        "What is the accuracy of our classifiers on the train dataset?"
      ]
    },
    {
      "cell_type": "code",
      "execution_count": 10,
      "metadata": {
        "colab": {
          "base_uri": "https://localhost:8080/"
        },
        "id": "DBlZDTHUFTZx",
        "outputId": "a1ca3783-3c20-4e3c-bd53-c5f7a6461144"
      },
      "outputs": [
        {
          "output_type": "stream",
          "name": "stdout",
          "text": [
            "Training accuracy using nearest neighbour algorithm: 100.0 %\n",
            "Training accuracy using random classifier:  16.4375808538163 %\n"
          ]
        }
      ],
      "source": [
        "trainpred = NN(traindata, trainlabel, traindata)\n",
        "trainAccuracy = Accuracy(trainlabel, trainpred)\n",
        "print(\"Training accuracy using nearest neighbour algorithm:\", trainAccuracy*100, \"%\")\n",
        "\n",
        "trainpred = RandomClassifier(traindata, trainlabel, traindata)\n",
        "trainAccuracy = Accuracy(trainlabel, trainpred)\n",
        "print(\"Training accuracy using random classifier: \", trainAccuracy*100, \"%\")"
      ]
    },
    {
      "cell_type": "markdown",
      "metadata": {
        "id": "7h08-9gJDtSy"
      },
      "source": [
        "For nearest neighbour, the train accuracy is always 1. The accuracy of the random classifier is close to 1/(number of classes) which is 0.1666 in our case. This is because the random classifier randomly assigns a label to each sample and the probability of assigning the correct label is 1/(number of classes). Let us predict the labels for our validation set and get the accuracy. This accuracy is a good estimate of the accuracy of our model on unseen data."
      ]
    },
    {
      "cell_type": "code",
      "execution_count": 11,
      "metadata": {
        "colab": {
          "base_uri": "https://localhost:8080/"
        },
        "id": "4h7bXoW_2H3v",
        "outputId": "e6061ea4-e43d-4ccd-c615-8b92dd1778eb"
      },
      "outputs": [
        {
          "output_type": "stream",
          "name": "stdout",
          "text": [
            "Validation accuracy using nearest neighbour algorithm: 34.10852713178294 %\n",
            "Validation accuracy using random classifier: 16.884689922480618 %\n"
          ]
        }
      ],
      "source": [
        "valpred = NN(traindata, trainlabel, valdata)\n",
        "valAccuracy = Accuracy(vallabel, valpred)\n",
        "print(\"Validation accuracy using nearest neighbour algorithm:\", valAccuracy*100, \"%\")\n",
        "\n",
        "\n",
        "valpred = RandomClassifier(traindata, trainlabel, valdata)\n",
        "valAccuracy = Accuracy(vallabel, valpred)\n",
        "print(\"Validation accuracy using random classifier:\", valAccuracy*100, \"%\")"
      ]
    },
    {
      "cell_type": "markdown",
      "metadata": {
        "id": "py9bLguFEjfg"
      },
      "source": [
        "Validation accuracy of nearest neighbour is considerably less than its train accuracy while the validation accuracy of random classifier is the same. However, the validation accuracy of nearest neighbour is twice that of the random classifier. Now let us try another random split and check the validation accuracy. We will see that the validation accuracy changes with the split. This is because the validation set is small and the accuracy is highly dependent on the samples in the validation set. We can get a better estimate of the accuracy by using cross-validation."
      ]
    },
    {
      "cell_type": "code",
      "execution_count": 12,
      "metadata": {
        "colab": {
          "base_uri": "https://localhost:8080/"
        },
        "id": "ujm3cyYzEntE",
        "outputId": "f1bb5ce8-a6f6-4d4a-d045-60eb0ac753e1"
      },
      "outputs": [
        {
          "output_type": "stream",
          "name": "stdout",
          "text": [
            "Validation accuracy using nearest neighbour algorithm: 34.048257372654156 %\n"
          ]
        }
      ],
      "source": [
        "traindata, trainlabel, valdata, vallabel = split(\n",
        "    alltraindata, alltrainlabel, 75 / 100)\n",
        "valpred = NN(traindata, trainlabel, valdata)\n",
        "valAccuracy = Accuracy(vallabel, valpred)\n",
        "print(\"Validation accuracy using nearest neighbour algorithm:\", valAccuracy*100, \"%\")"
      ]
    },
    {
      "cell_type": "markdown",
      "metadata": {
        "id": "oSOx7U83EKie"
      },
      "source": [
        "You can run the above cell multiple times to try with different random splits.\n",
        "We notice that the accuracy is different for each run, but close together.\n",
        "\n",
        "Now let us compare it with the accuracy we get on the test dataset."
      ]
    },
    {
      "cell_type": "code",
      "execution_count": 13,
      "metadata": {
        "colab": {
          "base_uri": "https://localhost:8080/"
        },
        "id": "PNEZ5ToYBEDW",
        "outputId": "01ee0321-c3ab-4803-ce42-54b368f27865"
      },
      "outputs": [
        {
          "output_type": "stream",
          "name": "stdout",
          "text": [
            "Test accuracy: 34.91795366795367 %\n"
          ]
        }
      ],
      "source": [
        "testpred = NN(alltraindata, alltrainlabel, testdata)\n",
        "testAccuracy = Accuracy(testlabel, testpred)\n",
        "\n",
        "print(\"Test accuracy:\", testAccuracy*100, \"%\")"
      ]
    },
    {
      "cell_type": "markdown",
      "metadata": {
        "id": "w3dGD531K3gH"
      },
      "source": [
        "### Try it out for yourself and answer:\n",
        "1. How is the accuracy of the validation set affected if we increase the percentage of validation set? What happens when we reduce it?\n",
        "2. How does the size of the train and validation set affect how well we can predict the accuracy on the test set using the validation set?\n",
        "3. What do you think is a good percentage to reserve for the validation set so that thest two factors are balanced?\n",
        "\n",
        "Answer for both nearest neighbour and random classifier. You can note down the values for your experiments and plot a graph using  <a href=https://matplotlib.org/stable/gallery/lines_bars_and_markers/step_demo.html#sphx-glr-gallery-lines-bars-and-markers-step-demo-py>plt.plot<href>. Check also for extreme values for splits, like 99.9% or 0.1%"
      ]
    },
    {
      "cell_type": "markdown",
      "metadata": {
        "id": "M9zvdYY6evgI"
      },
      "source": [
        "> Exercise: Try to implement a 3 nearest neighbour classifier and compare the accuracy of the 1 nearest neighbour classifier and the 3 nearest neighbour classifier on the test dataset. You can use the KNeighborsClassifier class from the scikit-learn library to implement the K-Nearest Neighbors model. You can set the number of neighbors using the n_neighbors parameter. You can also use the accuracy_score function from the scikit-learn library to calculate the accuracy of the model."
      ]
    },
    {
      "cell_type": "markdown",
      "metadata": {
        "id": "PnYvkAZLQY7h"
      },
      "source": [
        "## Multiple Splits\n",
        "\n",
        "One way to get more accurate estimates for the test accuracy is by using <b>cross-validation</b>. Here, we will try a simple version, where we do multiple train/val splits and take the average of validation accuracies as the test accuracy estimation. Here is a function for doing this. Note that this function will take a long time to execute. You can reduce the number of splits to make it faster."
      ]
    },
    {
      "cell_type": "code",
      "execution_count": 14,
      "metadata": {
        "id": "E4nGCUQXBTzo"
      },
      "outputs": [],
      "source": [
        "def AverageAccuracy(alldata, alllabel, splitpercent, iterations, classifier=NN):\n",
        "    \"\"\"\n",
        "    This function takes in the data, labels, split percentage, number of iterations and classifier function\n",
        "    and returns the average accuracy of the classifier\n",
        "\n",
        "    alldata: numpy array of shape (n,d) where n is the number of samples and d is the number of features\n",
        "    alllabel: numpy array of shape (n,) where n is the number of samples\n",
        "    splitpercent: float which is the percentage of data to be used for training\n",
        "    iterations: int which is the number of iterations to run the classifier\n",
        "    classifier: function which is the classifier function to be used\n",
        "\n",
        "    returns: the average accuracy of the classifier\n",
        "    \"\"\"\n",
        "    accuracy = 0\n",
        "    for ii in range(iterations):\n",
        "        traindata, trainlabel, valdata, vallabel = split(\n",
        "            alldata, alllabel, splitpercent\n",
        "        )\n",
        "        valpred = classifier(traindata, trainlabel, valdata)\n",
        "        accuracy += Accuracy(vallabel, valpred)\n",
        "    return accuracy / iterations  # average of all accuracies"
      ]
    },
    {
      "cell_type": "code",
      "execution_count": 15,
      "metadata": {
        "colab": {
          "base_uri": "https://localhost:8080/"
        },
        "id": "H3qtNar7Bbik",
        "outputId": "4c4b7c17-3f19-40c6-f7f1-8bf94d0508b3"
      },
      "outputs": [
        {
          "output_type": "stream",
          "name": "stdout",
          "text": [
            "Average validation accuracy: 33.58463539517022 %\n",
            "Test accuracy: 34.91795366795367 %\n"
          ]
        }
      ],
      "source": [
        "avg_acc = AverageAccuracy(alltraindata, alltrainlabel, 75 / 100, 10, classifier=NN)\n",
        "print(\"Average validation accuracy:\", avg_acc*100, \"%\")\n",
        "testpred = NN(alltraindata, alltrainlabel, testdata)\n",
        "\n",
        "print(\"Test accuracy:\", Accuracy(testlabel, testpred)*100, \"%\")"
      ]
    },
    {
      "cell_type": "markdown",
      "metadata": {
        "id": "33GIn4x5VH-d"
      },
      "source": [
        "This is a very simple way of doing cross-validation. There are many well-known algorithms for cross-validation, like k-fold cross-validation, leave-one-out etc. This will be covered in detail in a later module. For more information about cross-validation, check <a href=https://en.wikipedia.org/wiki/Cross-validation_(statistics)>Cross-validatioin (Wikipedia)</a>\n",
        "\n",
        "### Questions\n",
        "1. Does averaging the validation accuracy across multiple splits give more consistent results?\n",
        "2. Does it give more accurate estimate of test accuracy?\n",
        "3. What is the effect of the number of iterations on the estimate? Do we get a better estimate with higher iterations?\n",
        "4. Consider the results you got for the previous questions. Can we deal with a very small train dataset or validation dataset by increasing the iterations?\n"
      ]
    },
    {
      "cell_type": "markdown",
      "source": [
        "When dealing with more than two classes, classification models can still perform well, but some considerations arise:\n",
        "\n",
        "*Challenges:*\n",
        "\n",
        "1. Increased complexity: More classes mean more boundaries to learn, potentially leading to overfitting.\n",
        "2. Class imbalance: Some classes may have significantly fewer instances, affecting model performance.\n",
        "3. Confusion between similar classes: Models may struggle to distinguish between classes with similar features.\n",
        "\n",
        "*Strategies:*\n",
        "\n",
        "1. One-vs-Rest (OvR): Train multiple binary models, each focusing on one class vs. all others.\n",
        "2. One-vs-One (OvO): Train models for each pair of classes.\n",
        "3. Hierarchical classification: Organize classes into a tree-like structure.\n",
        "4. Multi-class classification algorithms: Designed specifically for multiple classes, e.g., Random Forest, SVM, KNN.\n",
        "\n",
        "*Evaluation Metrics:*\n",
        "\n",
        "1. Accuracy\n",
        "2. Precision\n",
        "3. Recall\n",
        "4. F1-score (macro and weighted)\n",
        "5. Confusion Matrix\n",
        "6. ROC-AUC (for each class)\n",
        "\n",
        "*Techniques to improve performance:*\n",
        "\n",
        "1. Data augmentation\n",
        "2. Feature engineering\n",
        "3. Transfer learning\n",
        "4. Ensemble methods\n",
        "5. Hyperparameter tuning\n",
        "\n",
        "*Example (Python):*\n",
        "\n",
        "Using Iris dataset (3 classes: Setosa, Versicolor, Virginica)\n",
        "```\n",
        "from sklearn.datasets import load_iris\n",
        "from sklearn.model_selection import train_test_split\n",
        "from sklearn.ensemble import RandomForestClassifier\n",
        "from sklearn.metrics import accuracy_score, classification_report, confusion_matrix\n",
        "\n",
        "# Load Iris dataset\n",
        "iris = load_iris()\n",
        "X = iris.data\n",
        "y = iris.target\n",
        "\n",
        "# Split data\n",
        "X_train, X_test, y_train, y_test = train_test_split(X, y, test_size=0.2)\n",
        "\n",
        "# Train multi-class model\n",
        "rfc = RandomForestClassifier(n_estimators=100)\n",
        "rfc.fit(X_train, y_train)\n",
        "\n",
        "# Evaluate model\n",
        "y_pred = rfc.predict(X_test)\n",
        "print(\"Accuracy:\", accuracy_score(y_test, y_pred))\n",
        "print(\"Classification Report:\")\n",
        "print(classification_report(y_test, y_pred))\n",
        "print(\"Confusion Matrix:\")\n",
        "print(confusion_matrix(y_test, y_pred))\n",
        "```\n",
        "\n",
        "Do you have a specific multi-class classification problem or dataset in mind?\n",
        "\n",
        "\n",
        "\n",
        "2)Yes, averaging validation accuracy across multiple splits (K-Fold Cross-Validation or Monte Carlo Cross-Validation) provides a more accurate estimate of test accuracy.\n",
        "\n",
        "_Why:_\n",
        "\n",
        "1. Reduces variance: Averages out fluctuations in validation accuracy due to random split variations.\n",
        "2. Better represents data distribution: Multiple splits capture more aspects of data distribution.\n",
        "3. Improves generalizability: Encourages models to perform well across different subsets.\n",
        "\n",
        "_Benefits:_\n",
        "\n",
        "1. More reliable estimate of test accuracy.\n",
        "2. Increased confidence in model performance.\n",
        "3. Better comparison between models.\n",
        "\n",
        "_Factors influencing accuracy:_\n",
        "\n",
        "1. Number of splits (K in KFCV or iterations in MCCV).\n",
        "2. Data size and complexity.\n",
        "3. Model complexity.\n",
        "4. Random seed.\n",
        "\n",
        "_Optimal number of splits:_\n",
        "\n",
        "1. KFCV: 5-10 folds for small datasets, 3-5 folds for large datasets.\n",
        "2. MCCV: 10-100 iterations.\n",
        "\n",
        "_Caveats:_\n",
        "\n",
        "1. Computational cost increases with number of splits.\n",
        "2. Overfitting to validation set if too many iterations.\n",
        "\n",
        "_Additional strategies:_\n",
        "\n",
        "1. Use stratified splitting for imbalanced datasets.\n",
        "2. Monitor performance on a holdout test set.\n",
        "3. Consider Bayesian optimization or hyperparameter tuning.\n",
        "\n",
        "By implementing KFCV or MCCV, you'll obtain a more robust estimate of test accuracy, guiding better model selection and hyperparameter tuning.\n",
        "\n",
        "Would you like more information on stratified splitting, holdout test sets, or Bayesian optimization?\n",
        "\n",
        "\n",
        "\n",
        "3)The number of iterations in Monte Carlo Cross-Validation (MCCV) or the number of folds in K-Fold Cross-Validation (KFCV) significantly impacts the estimate's quality.\n",
        "\n",
        "*Effects of increasing iterations/folds:*\n",
        "\n",
        "*Positive effects:*\n",
        "\n",
        "1. *Reduced variance*: More iterations/folds average out fluctuations, providing a more stable estimate.\n",
        "2. *Improved accuracy*: Better representation of data distribution, leading to a more accurate estimate.\n",
        "3. *Increased reliability*: More robust estimate, less sensitive to individual split variations.\n",
        "\n",
        "*Negative effects:*\n",
        "\n",
        "1. *Computational cost*: Increased iterations/folds require more computations, potentially leading to:\n",
        "    - Longer training times.\n",
        "    - Increased memory usage.\n",
        "2. *Overfitting to validation set*: Too many iterations can result in overfitting, especially if:\n",
        "    - Model is complex.\n",
        "    - Validation set is small.\n",
        "\n",
        "*Optimal number of iterations/folds:*\n",
        "\n",
        "1. *KFCV*: 5-10 folds for small datasets, 3-5 folds for large datasets.\n",
        "2. *MCCV*: 10-100 iterations, depending on dataset size and complexity.\n",
        "\n",
        "*Convergence of estimate:*\n",
        "\n",
        "As iterations/folds increase, the estimate converges to the true population performance. However, diminishing returns apply:\n",
        "\n",
        "- Initial increases in iterations/folds significantly improve estimate quality.\n",
        "- Further increases yield smaller improvements.\n",
        "\n",
        "*Illustration:*\n",
        "\n",
        "Suppose we're evaluating a model on a dataset with 1000 samples.\n",
        "\n",
        "| Iterations/Folds | Estimate Variance |\n",
        "| --- | --- |\n",
        "| 5 (KFCV) | 0.05 |\n",
        "| 10 (KFCV) | 0.02 |\n",
        "| 20 (KFCV) | 0.01 |\n",
        "| 50 (MCCV) | 0.005 |\n",
        "| 100 (MCCV) | 0.002 |\n",
        "\n",
        "As iterations/folds increase, variance decreases, indicating a more stable estimate.\n",
        "\n",
        "*Code example (Python):*\n",
        "\n",
        "```\n",
        "import numpy as np\n",
        "from sklearn.model_selection import KFold, MonteCarloCrossValidation\n",
        "from sklearn.ensemble import RandomForestClassifier\n",
        "from sklearn.metrics import accuracy_score\n",
        "\n",
        "# Define model, data, and evaluation metric\n",
        "rfc = RandomForestClassifier(n_estimators=100)\n",
        "X, y = ...  # load your data\n",
        "\n",
        "# K-Fold Cross-Validation\n",
        "kf = KFold(n_splits=5)\n",
        "accuracies_kf = []\n",
        "\n",
        "for train_index, val_index in kf.split(X):\n",
        "    X_train, X_val = X[train_index], X[val_index]\n",
        "    y_train, y_val = y[train_index], y[val_index]\n",
        "    \n",
        "    rfc.fit(X_train, y_train)\n",
        "    y_pred = rfc.predict(X_val)\n",
        "    accuracies_kf.append(accuracy_score(y_val, y_pred))\n",
        "\n",
        "# Monte Carlo Cross-Validation\n",
        "mccv = MonteCarloCrossValidation(n_iterations=10)\n",
        "accuracies_mccv = []\n",
        "\n",
        "for train_index, val_index in mccv.split(X):\n",
        "    X_train, X_val = X[train_index], X[val_index]\n",
        "    y_train, y_val = y[train_index], y[val_index]\n",
        "    \n",
        "    rfc.fit(X_train, y_train)\n",
        "    y_pred = rfc.predict(X_val)\n",
        "    accuracies_mccv.append(accuracy_score(y_val, y_pred))\n",
        "\n",
        "print(\"KFCV Estimate:\", np.mean(accuracies_kf))\n",
        "print(\"MCCV Estimate:\", np.mean(accuracies_mccv\n",
        "```\n",
        "\n",
        "\n",
        "4)Increasing iterations can help alleviate issues with small train or validation datasets, but there are limitations.\n",
        "\n",
        "*Benefits of increasing iterations:*\n",
        "\n",
        "1. *Reduced variance*: More iterations average out fluctuations, providing a more stable estimate.\n",
        "2. *Improved accuracy*: Better representation of data distribution, leading to a more accurate estimate.\n",
        "3. *Increased reliability*: More robust estimate, less sensitive to individual split variations.\n",
        "\n",
        "*Limitations:*\n",
        "\n",
        "1. *Overfitting*: Too many iterations can result in overfitting, especially with:\n",
        "    - Complex models.\n",
        "    - Small validation sets.\n",
        "2. *Computational cost*: Increased iterations require more computations.\n",
        "3. *Diminishing returns*: Beyond a certain point, additional iterations yield minimal improvements.\n",
        "\n",
        "*Small train dataset:*\n",
        "\n",
        "1. *Data augmentation*: Generate more training data through augmentation techniques.\n",
        "2. *Transfer learning*: Leverage pre-trained models and fine-tune on your small dataset.\n",
        "3. *Regularization techniques*: Prevent overfitting with regularization (e.g., dropout, L1/L2 regularization).\n",
        "\n",
        "*Small validation dataset:*\n",
        "\n",
        "1. **K"
      ],
      "metadata": {
        "id": "JPx4zrNGXry4"
      }
    },
    {
      "cell_type": "markdown",
      "metadata": {
        "id": "z-SBxy1qevgJ"
      },
      "source": [
        "> Exercise: How does the accuracy of the 3 nearest neighbour classifier change with the number of splits? How is it affected by the split size? Compare the results with the 1 nearest neighbour classifier."
      ]
    },
    {
      "cell_type": "markdown",
      "source": [
        "The accuracy of the 3-Nearest Neighbor (3-NN) classifier can vary with the number of splits and split size. Here's a general overview:\n",
        "\n",
        "*Number of Splits:*\n",
        "\n",
        "1. Increasing the number of splits can lead to:\n",
        "    - Reduced variance in accuracy estimates.\n",
        "    - More robust performance evaluation.\n",
        "2. However, excessive splits can result in:\n",
        "    - Overfitting to validation sets.\n",
        "    - Increased computational cost.\n",
        "\n",
        "*Split Size:*\n",
        "\n",
        "1. Larger split sizes can lead to:\n",
        "    - More reliable accuracy estimates.\n",
        "    - Reduced impact of individual sample variations.\n",
        "2. Smaller split sizes can result in:\n",
        "    - Higher variance in accuracy estimates.\n",
        "    - Increased sensitivity to individual sample variations.\n",
        "\n",
        "*Comparison with 1-Nearest Neighbor (1-NN):*\n",
        "\n",
        "1. 1-NN is more sensitive to noise and outliers.\n",
        "2. 3-NN is more robust to noise and outliers, but may lose some discriminatory power.\n",
        "3. 3-NN generally performs better with larger split sizes.\n",
        "\n",
        "*Experimental Results:*\n",
        "\n",
        "Here's a Python example using scikit-learn's `KFold` and `KNeighborsClassifier`:\n",
        "\n",
        "```\n",
        "import numpy as np\n",
        "from sklearn.model_selection\n",
        "```"
      ],
      "metadata": {
        "id": "-N0ikRjTYie7"
      }
    }
  ],
  "metadata": {
    "colab": {
      "provenance": [],
      "include_colab_link": true
    },
    "kernelspec": {
      "display_name": "Python 3",
      "name": "python3"
    },
    "language_info": {
      "codemirror_mode": {
        "name": "ipython",
        "version": 3
      },
      "file_extension": ".py",
      "mimetype": "text/x-python",
      "name": "python",
      "nbconvert_exporter": "python",
      "pygments_lexer": "ipython3",
      "version": "3.10.10"
    }
  },
  "nbformat": 4,
  "nbformat_minor": 0
}